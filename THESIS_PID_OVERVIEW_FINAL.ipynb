{
  "cells": [
    {
      "cell_type": "code",
      "execution_count": null,
      "metadata": {
        "id": "GmC-r6bE9jy2"
      },
      "outputs": [],
      "source": [
        "import numpy as np\n",
        "import math\n",
        "import matplotlib.pyplot as plt\n",
        "from math import log2\n",
        "import pandas as pd\n",
        "import itertools\n",
        "from matplotlib.collections import LineCollection\n",
        "import matplotlib.patches as mpatches\n",
        "from itertools import product\n",
        "\n",
        "\n",
        "s=1985"
      ]
    },
    {
      "cell_type": "code",
      "execution_count": null,
      "metadata": {
        "id": "4UbZN5-Go25p"
      },
      "outputs": [],
      "source": []
    },
    {
      "cell_type": "markdown",
      "metadata": {
        "id": "aioLM8Ywou6B"
      },
      "source": [
        "# PREPARE DATA TO BE DISCRETE"
      ]
    },
    {
      "cell_type": "code",
      "execution_count": null,
      "metadata": {
        "id": "AufRxYt8ouAi"
      },
      "outputs": [],
      "source": [
        "def divide_lists_into_bins(n_bins, *args):\n",
        "    \"\"\"Divides lists of continuous values into n bins.\n",
        "\n",
        "    Args:\n",
        "        n_bins: The number of bins to divide the values into.\n",
        "        *args: Variable number of lists containing continuous values.\n",
        "\n",
        "    Returns:\n",
        "        - A list of tuples, where each tuple contains the bin indices\n",
        "          for corresponding elements across the input lists.\n",
        "        - A list of bin indices if a single list is provided.\n",
        "    \"\"\"\n",
        "\n",
        "    all_values = np.concatenate(args)\n",
        "    min_value = all_values.min()\n",
        "    max_value = all_values.max()\n",
        "\n",
        "    bin_edges = np.linspace(min_value, max_value, n_bins + 1)\n",
        "\n",
        "    bin_indices = [np.digitize(list_values, bin_edges) - 1 for list_values in args]\n",
        "\n",
        "    # Check if we have a single list\n",
        "    if len(args) == 1:\n",
        "        return bin_indices[0]  # Return list of bin indices directly\n",
        "    else:\n",
        "        return list(zip(*bin_indices))"
      ]
    },
    {
      "cell_type": "code",
      "execution_count": null,
      "metadata": {
        "id": "W_Vu5OOk748P"
      },
      "outputs": [],
      "source": [
        "def Lists2Tuple(*args):\n",
        "  \"\"\"\n",
        "  Creates a list of tuples, where each tuple contains corresponding elements from the input lists.\n",
        "\n",
        "  Args:\n",
        "      *args: A variable number of lists, each containing discrete values.\n",
        "\n",
        "  Returns:\n",
        "      A list of tuples, where each tuple represents a combination of corresponding elements\n",
        "      from the input lists.\n",
        "  \"\"\"\n",
        "\n",
        "  return list(zip(*args))"
      ]
    },
    {
      "cell_type": "code",
      "execution_count": null,
      "metadata": {
        "id": "7zywCVQIB01_"
      },
      "outputs": [],
      "source": [
        "def create_subsets(list_of_lists):\n",
        "    subsets = []\n",
        "    for i in range(1, len(list_of_lists) + 1):  # Start from 1\n",
        "        for subset in itertools.combinations(list_of_lists, i):\n",
        "            subsets.append(list(subset))\n",
        "    return subsets"
      ]
    },
    {
      "cell_type": "code",
      "execution_count": null,
      "metadata": {
        "id": "aX0FtjwQK02v"
      },
      "outputs": [],
      "source": [
        "def list_of_lists_to_tuples(list_of_lists):\n",
        "  \"\"\"Converts a list of lists to a list of tuples.\n",
        "\n",
        "  Args:\n",
        "      list_of_lists: A list of lists of integers.\n",
        "\n",
        "  Returns:\n",
        "      A list of tuples, where each tuple contains elements from the corresponding\n",
        "      sublists in the input list_of_lists. If the input list contains a single sublist,\n",
        "      the output list will contain tuples with a single element.\n",
        "  \"\"\"\n",
        "\n",
        "  if len(list_of_lists) == 1:\n",
        "    return [item for item in list_of_lists[0]]\n",
        "  else:\n",
        "    return list(zip(*list_of_lists))\n",
        "\n"
      ]
    },
    {
      "cell_type": "markdown",
      "metadata": {
        "id": "2XmNHVjNZLd3"
      },
      "source": [
        "# CREATING METRICS"
      ]
    },
    {
      "cell_type": "markdown",
      "metadata": {
        "id": "Ktkr_UJiI_BC"
      },
      "source": [
        "## Probabilities"
      ]
    },
    {
      "cell_type": "code",
      "execution_count": null,
      "metadata": {
        "id": "0djk5RUcBWhE"
      },
      "outputs": [],
      "source": [
        "def probability(X):\n",
        "  counts={}\n",
        "  total=len(X)\n",
        "  for x in X:\n",
        "    counts[x]=counts.get(x, 0) + 1\n",
        "\n",
        "  probs={count:x /total for count,x in counts.items()}\n",
        "  return probs\n",
        "\n"
      ]
    },
    {
      "cell_type": "code",
      "execution_count": null,
      "metadata": {
        "id": "u6FH-Z5c4ilt"
      },
      "outputs": [],
      "source": [
        "def joint_probability_List(*args):\n",
        "  \"\"\"\n",
        "  Calculates the joint probability distribution of multiple variables.\n",
        "\n",
        "  Args:\n",
        "      *args: A variable number of lists, each representing a single variable's\n",
        "             possible values.\n",
        "\n",
        "  Returns:\n",
        "      A dictionary where keys are tuples representing combinations of values (one\n",
        "      value from each input list), and values are the corresponding joint probabilities.\n",
        "  \"\"\"\n",
        "\n",
        "  counts = {}  # A dictionary to store counts of each combination\n",
        "  total_combos = len(args[0])  # Total number of possible combinations\n",
        "\n",
        "  for tup in list(zip(*args)):\n",
        "      # Iterate over combinations of values from the input lists\n",
        "\n",
        "      key_tuple = tuple(tup)  # Create a tuple to represent the combination\n",
        "      counts[key_tuple] = counts.get(key_tuple, 0) + 1\n",
        "      # Increment count for the observed combination\n",
        "\n",
        "  joint_probs = {tup: count / total_combos for tup, count in counts.items()}\n",
        "  # Calculate joint probabilities by dividing counts by total combinations\n",
        "\n",
        "  return joint_probs"
      ]
    },
    {
      "cell_type": "code",
      "execution_count": null,
      "metadata": {
        "id": "GWvatuYd7KC_"
      },
      "outputs": [],
      "source": [
        "def joint_probability_local(*args, local_values):\n",
        "    \"\"\"Calculates the joint probability of a specific combination of values.\"\"\"\n",
        "\n",
        "    # Calculate the joint probability distribution directly\n",
        "    joint_probs = joint_probability_List(*args)\n",
        "\n",
        "    # Find the probability of the specific combination\n",
        "    return joint_probs.get(local_values, 0.0)"
      ]
    },
    {
      "cell_type": "code",
      "execution_count": null,
      "metadata": {
        "id": "J7ecMgdC95mY"
      },
      "outputs": [],
      "source": [
        "def probability_of_x_given_y(X, Y):\n",
        "    counts = {}\n",
        "    # Create an empty dictionary to store counts of x for each unique y\n",
        "\n",
        "    for x, y in zip(X, Y):\n",
        "        if y not in counts:\n",
        "            counts[y] = {}\n",
        "            # If y is not already a key in counts, initialize it with an empty dictionary\n",
        "\n",
        "        if x not in counts[y]:\n",
        "            counts[y][x] = 0\n",
        "            # If x is not already a key in counts[y], initialize it with a count of 0\n",
        "\n",
        "        counts[y][x] += 1\n",
        "        # Increment the count of x for the corresponding y\n",
        "\n",
        "    probabilities = {}\n",
        "    # Create a dictionary to store probabilities\n",
        "\n",
        "    for y, x_counts in counts.items():\n",
        "        total_count = sum(x_counts.values())\n",
        "        # Calculate the total count of x values for a particular y\n",
        "\n",
        "        probabilities[y] = {x: count / total_count for x, count in x_counts.items()}\n",
        "        # Calculate the probability of each x value given a specific y value.\n",
        "        # This is done by dividing the count of each x value by the total count of x values for that y.\n",
        "\n",
        "    return probabilities\n",
        "\n"
      ]
    },
    {
      "cell_type": "code",
      "execution_count": null,
      "metadata": {
        "id": "plQu8gIkFs-Q"
      },
      "outputs": [],
      "source": [
        "def conditional_probability(X,Y,Z, x_value, y_value, z_value):\n",
        "  \"\"\"\n",
        "  Calculates the conditional probability of X given Y and Z.\n",
        "\n",
        "  Args:\n",
        "      data (pd.DataFrame): A DataFrame containing three columns: 'X', 'Y', and 'Z'.\n",
        "      x_value: The value of X for which to calculate the probability.\n",
        "      y_value: The value of Y to condition on.\n",
        "      z_value: The value of Z to condition on.\n",
        "\n",
        "  Returns:\n",
        "      float: The conditional probability of X given Y and Z.\n",
        "  \"\"\"\n",
        "  data = pd.DataFrame({'X':X, 'Y': Y, 'Z': Z})\n",
        "\n",
        "  # Filter data for specific Y and Z values\n",
        "  filtered_data = data[(data['Y'] == y_value) & (data['Z'] == z_value)]\n",
        "\n",
        "  # Check if there are any matching Y and Z values\n",
        "  if filtered_data.empty:\n",
        "    return 0\n",
        "\n",
        "  # Calculate the probability of X given Y and Z\n",
        "  probability = (filtered_data['X'] == x_value).mean()\n",
        "  return probability"
      ]
    },
    {
      "cell_type": "code",
      "execution_count": null,
      "metadata": {
        "id": "SybBRRmvXOqp"
      },
      "outputs": [],
      "source": [
        "def prob_Xx_given_Yy(X, Y, x, y):\n",
        "    \"\"\"\n",
        "    Calculates the conditional probability of event x occurring given that event y has occurred,\n",
        "    where X and Y are lists of events (or event combinations).\n",
        "\n",
        "    Args:\n",
        "      X: A list of event combinations (represented as tuples).\n",
        "      Y: A list of corresponding events (represented as tuples).\n",
        "      x: The specific event combination we're interested in.\n",
        "      y: The conditioning event.\n",
        "\n",
        "    Returns:\n",
        "      The conditional probability P(x | y)\n",
        "    \"\"\"\n",
        "\n",
        "    # Calculate counts directly using list comprehensions\n",
        "    xy_count = sum(a == x and b == y for a, b in zip(X, Y))\n",
        "    y_count = sum(b == y for b in Y)\n",
        "    return xy_count / y_count if y_count else 0 # Handle zero probability case"
      ]
    },
    {
      "cell_type": "markdown",
      "metadata": {
        "id": "XVAXf_RUJf2y"
      },
      "source": [
        "## Entropy"
      ]
    },
    {
      "cell_type": "code",
      "execution_count": null,
      "metadata": {
        "id": "6_4uSpWUKfbr"
      },
      "outputs": [],
      "source": [
        "def entropy(X):\n",
        "\n",
        "  # Count the occurrences of each unique value in the sample\n",
        "  unique, counts = np.unique(X, return_counts=True)\n",
        "  # Calculate the probabilities of each unique value\n",
        "  p = counts / len(X)\n",
        "  # Handle zero probabilities (add small value for numerical stability)\n",
        "  p[p == 0] = np.finfo(float).eps\n",
        "  # Calculate the entropy\n",
        "  return -np.sum(p * np.log2(p))  # Base 2 logarithm for binary entropy\n",
        "\n"
      ]
    },
    {
      "cell_type": "code",
      "execution_count": null,
      "metadata": {
        "id": "TYtO-HYyAGd-"
      },
      "outputs": [],
      "source": [
        "\n",
        "def conditional_entropy(X, Y):\n",
        "    joint_probs = joint_probability_List(X, Y)\n",
        "    prob_y = probability(Y)\n",
        "    entropy = 0.0\n",
        "    for key, value in joint_probs.items():\n",
        "      py=prob_y[key[1]]\n",
        "      entropy-=value*math.log(value/py,2)\n",
        "    return entropy\n"
      ]
    },
    {
      "cell_type": "code",
      "execution_count": null,
      "metadata": {
        "id": "MwPtbZJ3WBCz"
      },
      "outputs": [],
      "source": [
        "def conditional_entropy_List(X, *args):\n",
        "    joint_probs = joint_probability_List(X, *args)\n",
        "    prob_arg = joint_probability_List(*args)\n",
        "    entropy = 0.0\n",
        "    for key, value in joint_probs.items():\n",
        "      parg=prob_arg[key[1:]]\n",
        "      entropy-=value*math.log(value/parg,2)\n",
        "    return entropy"
      ]
    },
    {
      "cell_type": "code",
      "execution_count": null,
      "metadata": {
        "id": "ygkeEd1IG0Wu"
      },
      "outputs": [],
      "source": [
        "def joint_entropy(X, Y):\n",
        "    joint_probs = joint_probability_List(X, Y)\n",
        "    entropy = 0.0\n",
        "    for key, value in joint_probs.items():\n",
        "      entropy-=value*math.log(value,2)\n",
        "    return entropy\n"
      ]
    },
    {
      "cell_type": "code",
      "execution_count": null,
      "metadata": {
        "id": "QQ3tWCwJLMSg"
      },
      "outputs": [],
      "source": [
        "def joint_entropy_List(*args):\n",
        "  jp=joint_probability_List(*args)\n",
        "  entropy = 0.0\n",
        "  for prob in jp.values():\n",
        "    entropy -= prob * math.log2(prob)\n",
        "  return entropy"
      ]
    },
    {
      "cell_type": "markdown",
      "metadata": {
        "id": "asqUUPEJKBTG"
      },
      "source": [
        "## Mutual Information"
      ]
    },
    {
      "cell_type": "code",
      "execution_count": null,
      "metadata": {
        "id": "Hdeqjpo8Hmth"
      },
      "outputs": [],
      "source": [
        "def mutual_information(X,Y):\n",
        "  return entropy(X)-conditional_entropy_List(X,Y)\n"
      ]
    },
    {
      "cell_type": "code",
      "execution_count": null,
      "metadata": {
        "id": "uRYF0WBSJ3M7"
      },
      "outputs": [],
      "source": [
        "def co_information(X,Y,Z):\n",
        "  return entropy(X)+entropy(Y)+entropy(Z)-joint_entropy_List(X,Y)-joint_entropy_List(X,Z)-joint_entropy_List(Y,Z)+joint_entropy_List(X,Y,Z)"
      ]
    },
    {
      "cell_type": "code",
      "execution_count": null,
      "metadata": {
        "id": "bpJd78HKl6LW"
      },
      "outputs": [],
      "source": [
        "def local_co_information(X,Y,Z,x,y,z):\n",
        "  pX=probability(X)\n",
        "  px=pX.get(x, 0)\n",
        "  pY=probability(Y)\n",
        "  py=pY.get(y, 0)\n",
        "  pZ=probability(Z)\n",
        "  pz=pZ.get(z, 0)\n",
        "  pxy=joint_probability_local(X,Y, local_values=(x,y))\n",
        "  pxz=joint_probability_local(X,Z, local_values=(x,z))\n",
        "  pyz=joint_probability_local(Y,Z, local_values=(y,z))\n",
        "  pxyz=pxy=joint_probability_local(X,Y,Z, local_values=(x,y,z))\n",
        "  result=-log2(px)-log2(py)-log2(pz)+log2(pxy)+log2(pxz)+log2(pyz)-log2(pxyz)\n",
        "  return result"
      ]
    },
    {
      "cell_type": "code",
      "execution_count": null,
      "metadata": {
        "id": "1Fq742KzAUkc"
      },
      "outputs": [],
      "source": [
        "def mutual_informationX1X2Y(X1, X2, Y):\n",
        "    res = 0\n",
        "    PJ = joint_probability_List(X1, X2, Y)\n",
        "    PX1X2 = joint_probability_List(X1, X2)\n",
        "    PY = probability(Y)\n",
        "\n",
        "    for x1, x2, y in set(product(X1, X2, Y)):\n",
        "        pj = PJ.get((x1, x2, y), 0.0)\n",
        "        py = PY.get(y, 0.0)\n",
        "        px1x2 = PX1X2.get((x1, x2), 0.0)\n",
        "        if pj != 0 and py != 0 and px1x2 != 0:\n",
        "            res += pj*log2(pj/(py * px1x2))\n",
        "    return res"
      ]
    },
    {
      "cell_type": "code",
      "execution_count": null,
      "metadata": {
        "id": "DIwerx367tJT"
      },
      "outputs": [],
      "source": [
        "def local_mutual_informationX1X2Y(X1,X2,Y, x1,x2,y):\n",
        "  res=0\n",
        "  PJ=joint_probability_List(X1,X2,Y)\n",
        "  PX1X2=joint_probability_List(X1,X2)\n",
        "  PY=probability(Y)\n",
        "  pj=PJ.get((x1,x2,y), 0.0)\n",
        "  py=PY.get(y, 0.0)\n",
        "  px1x2=PX1X2.get((x1,x2), 0.0)\n",
        "  if pj != 0 and py != 0 and px1x2 != 0: return log2(pj/(py*px1x2))\n",
        "  return 0\n"
      ]
    },
    {
      "cell_type": "code",
      "execution_count": null,
      "metadata": {
        "id": "wCuELTulWJ5W"
      },
      "outputs": [],
      "source": [
        "def joint_mutual_information(X,Y,Z):\n",
        "  return joint_entropy_List(X,Y)+entropy(Z)-joint_entropy_List(X,Y,Z)\n"
      ]
    },
    {
      "cell_type": "code",
      "execution_count": null,
      "metadata": {
        "id": "gor_RP11SujY"
      },
      "outputs": [],
      "source": [
        "def conditional_mutual_information(X,Y,Z):\n",
        "  res = joint_entropy_List(X,Z)+joint_entropy_List(Y,Z)-joint_entropy_List(X,Y,Z)-entropy(Z)\n",
        "  return res"
      ]
    },
    {
      "cell_type": "code",
      "execution_count": null,
      "metadata": {
        "id": "spL0eudt_Hav"
      },
      "outputs": [],
      "source": [
        "def local_conditional_mutual_information(X, Y, Z, x, y, z):\n",
        "  \"\"\"\n",
        "  Calculates the local conditional mutual information (LCMI) between random\n",
        "  variables X and Y, conditioned on variable Z. This measures the amount\n",
        "  of information shared by X and Y, specifically when Z takes on the value z.\n",
        "\n",
        "  Args:\n",
        "      X, Y, Z:  Names of the random variables.\n",
        "      x, y, z:  Specific values taken by variables X, Y, and Z respectively.\n",
        "\n",
        "  Returns:\n",
        "      The Local Conditional Mutual Information value (float).\n",
        "  \"\"\"\n",
        "\n",
        "  # Calculate the joint probabilities with the specified local conditions\n",
        "  p_xy = joint_probability_local(X, Y, local_values=[x, y])\n",
        "  p_yz = joint_probability_local(Y, Z, local_values=[y, z])\n",
        "  p_xyz = joint_probability_local(X, Y, Z, local_values=[x, y, z])\n",
        "  p_z = joint_probability_local(Z, local_values=[z])\n",
        "\n",
        "  # Calculate and return the LCMI\n",
        "  return -np.log2(p_xy) - np.log2(p_yz) + np.log2(p_xyz) + np.log2(p_z)"
      ]
    },
    {
      "cell_type": "code",
      "execution_count": null,
      "metadata": {
        "id": "WSLjJ-G9dCGg"
      },
      "outputs": [],
      "source": [
        "def local_mutual_information(X,Y,x,y):\n",
        "  pX=probability(X)\n",
        "  px=pX.get(x, 0)\n",
        "  px_given_y=prob_Xx_given_Yy(X, Y, x, y)\n",
        "  return log2(px_given_y/px)\n"
      ]
    },
    {
      "cell_type": "markdown",
      "metadata": {
        "id": "n68LKtw6KNLX"
      },
      "source": [
        "## Total Correlation and Dual Total Correlation"
      ]
    },
    {
      "cell_type": "code",
      "execution_count": null,
      "metadata": {
        "id": "P6YPxf8ZW23z"
      },
      "outputs": [],
      "source": [
        "def TC_List(*args):\n",
        "  sum=0\n",
        "  for X in args:\n",
        "    sum+=entropy(X)\n",
        "  return sum-joint_entropy_List(*args)"
      ]
    },
    {
      "cell_type": "code",
      "execution_count": null,
      "metadata": {
        "id": "AAr5oYSJUGUV"
      },
      "outputs": [],
      "source": [
        "def DTC_List(*args):\n",
        "  sum=0\n",
        "  for i, arg in enumerate(args):\n",
        "        other_args = args[:i] + args[i+1:]\n",
        "        sum+=conditional_entropy_List(arg,*other_args)\n",
        "  return joint_entropy_List(*args)-sum"
      ]
    },
    {
      "cell_type": "code",
      "execution_count": null,
      "metadata": {
        "id": "hhGevr5Cc1eT"
      },
      "outputs": [],
      "source": [
        "def O_information(*args):\n",
        "  return TC_List(*args)-DTC_List(*args)"
      ]
    },
    {
      "cell_type": "code",
      "execution_count": null,
      "metadata": {
        "id": "koZop2-0736-"
      },
      "outputs": [],
      "source": [
        "def local_TC(X,Y,Z):\n",
        "  pX=probability(X)\n",
        "  pY=probability(Y)\n",
        "  pZ=probability(Z)\n",
        "  pXYZ=joint_probability_List(X,Y,Z)\n",
        "  result=[]\n",
        "  for x,y,z in zip(X,Y,Z):\n",
        "    i=-(np.log2(pX.get(x))+np.log2(pY.get(y))+np.log2(pZ.get(z)))+np.log2(pXYZ.get((x,y,z)))\n",
        "    result.append(i)\n",
        "  return result\n"
      ]
    },
    {
      "cell_type": "code",
      "execution_count": null,
      "metadata": {
        "id": "pBn1t8mBD5RA"
      },
      "outputs": [],
      "source": [
        "def local_DTC(X,Y,Z):\n",
        "  pXYZ=joint_probability_List(X,Y,Z)\n",
        "  result=[]\n",
        "  for x,y,z in zip(X,Y,Z):\n",
        "    i=-np.log2(pXYZ.get((x,y,z)))+np.log2(conditional_probability(X,Y,Z,x,y,z))+np.log2(conditional_probability(Y,Z,X,y,z,x))+np.log2(conditional_probability(Z,X,Y,z,x,y))\n",
        "    result.append(i)\n",
        "  return result"
      ]
    },
    {
      "cell_type": "markdown",
      "metadata": {
        "id": "URkU6c9ArA0B"
      },
      "source": [
        "# Measuring Redundancy"
      ]
    },
    {
      "cell_type": "code",
      "execution_count": null,
      "metadata": {
        "id": "D7KfRjU9BSLk"
      },
      "outputs": [],
      "source": [
        "def MinMI(X1,X2,Y):\n",
        "  m1=mutual_information(X1,Y)\n",
        "  m2=mutual_information(X2,Y)\n",
        "\n",
        "  return min(m1,m2)"
      ]
    },
    {
      "cell_type": "code",
      "execution_count": null,
      "metadata": {
        "id": "91Ta_SmrnW3J"
      },
      "outputs": [],
      "source": [
        "def BROJA(X1,X2,Y):\n",
        "  m1=conditional_mutual_information(X1,Y,X2)\n",
        "  m2=conditional_mutual_information(X2,Y,X1)\n",
        "\n",
        "  return (m1+m2)/2"
      ]
    },
    {
      "cell_type": "code",
      "execution_count": null,
      "metadata": {
        "id": "UHVyXNWaAd3T"
      },
      "outputs": [],
      "source": [
        "def local_BROJA(X1,X2,Y,x1,x2,y):\n",
        "  m1=local_conditional_mutual_information(X1,Y,X2,x1,y,x2)\n",
        "  m2=local_conditional_mutual_information(X2,Y,X1,x2,y,x1)\n",
        "\n",
        "  return (m1+m2)/2"
      ]
    },
    {
      "cell_type": "code",
      "execution_count": null,
      "metadata": {
        "id": "u9rvQ-CSlMJj"
      },
      "outputs": [],
      "source": [
        "def local_Specific_information(S,s,A,a):\n",
        "    pS=probability(S)\n",
        "    ps=pS.get(s, 0)\n",
        "    p_sa=prob_Xx_given_Yy(S, A, s, a)\n",
        "    return (log2(1/ps)-log2(1/p_sa)) if p_sa else 0\n",
        "\n"
      ]
    },
    {
      "cell_type": "code",
      "execution_count": null,
      "metadata": {
        "id": "75pjK2rRl1dt"
      },
      "outputs": [],
      "source": [
        "def Specific_information(S,s,A):\n",
        "  result=0\n",
        "  for a in set(A):\n",
        "    p_as=prob_Xx_given_Yy(A, S, a, s)\n",
        "    result=result+p_as*local_Specific_information(S,s,A,a)\n",
        "  return result"
      ]
    },
    {
      "cell_type": "code",
      "execution_count": null,
      "metadata": {
        "id": "Nadd059xNWPC"
      },
      "outputs": [],
      "source": [
        "def Specific_information(S,s,A):\n",
        "  pS=probability(S)\n",
        "  ps=pS.get(s, 0)\n",
        "  result=0\n",
        "  for a in set(A):\n",
        "    p_as=prob_Xx_given_Yy(A, S, a, s)\n",
        "    p_sa=prob_Xx_given_Yy(S, A, s, a)\n",
        "    if p_sa !=0:\n",
        "      result=result+p_as*(log2(1/ps)-log2(1/p_sa))\n",
        "  return result"
      ]
    },
    {
      "cell_type": "code",
      "execution_count": null,
      "metadata": {
        "id": "BkSu9AeNnfd4"
      },
      "outputs": [],
      "source": [
        "def local_Imin(S,s,A,a):\n",
        "    subsets_A=create_subsets(A)\n",
        "    subsets_a=create_subsets(a)\n",
        "    result=0\n",
        "    min_SI = float('inf')\n",
        "    for A_s, a_s in zip(subsets_A,subsets_a):\n",
        "      A_tup= list_of_lists_to_tuples(A_s)\n",
        "      if len(a_s) == 1:\n",
        "        a_s=a_s[0]\n",
        "      else:\n",
        "        a_s=tuple(a_s)\n",
        "      SI=local_Specific_information(S,s,A_tup,a_s)\n",
        "      if SI<min_SI:\n",
        "        min_SI=SI\n",
        "    return min_SI\n"
      ]
    },
    {
      "cell_type": "code",
      "execution_count": null,
      "metadata": {
        "id": "jjG6Qo6aedIi"
      },
      "outputs": [],
      "source": [
        "def Imin(S,*args):\n",
        "  subsets_A=create_subsets(args)\n",
        "  result=0\n",
        "  for s in set(S):\n",
        "    pS=probability(S)\n",
        "    ps=pS.get(s, 0)\n",
        "    min_SI = float('inf')\n",
        "    for As in subsets_A:\n",
        "      A_tup= list_of_lists_to_tuples(As)\n",
        "      SI=Specific_information(S,s,A_tup)\n",
        "      if SI<min_SI:\n",
        "        min_SI=SI\n",
        "        minA=A_tup\n",
        "    result=result+ps*min_SI\n",
        "  #print(minA)\n",
        "  return result"
      ]
    },
    {
      "cell_type": "code",
      "execution_count": null,
      "metadata": {
        "id": "wxeDsehlFbue"
      },
      "outputs": [],
      "source": [
        "Y = [2, 5, 5, 3, 2]\n",
        "X1 = [1, 2, 2, 2, 4]\n",
        "X2 = [0, 1, 1, 0, 1]\n",
        "X3 = [4, 9, 1, 9, 4]"
      ]
    },
    {
      "cell_type": "code",
      "execution_count": null,
      "metadata": {
        "id": "v2Gy9B_yXqT9"
      },
      "outputs": [],
      "source": [
        "r=10\n",
        "n=1000\n",
        "\n",
        "Y = np.random.randint(0, r + 1, size=n)\n",
        "X1 = np.random.randint(0, r + 1, size=n)\n",
        "X2 = np.random.randint(0, r + 1, size=n)\n",
        "X3 = np.random.randint(0, r + 1, size=n)"
      ]
    },
    {
      "cell_type": "code",
      "execution_count": null,
      "metadata": {
        "colab": {
          "base_uri": "https://localhost:8080/"
        },
        "id": "PvPoPfEJFsF-",
        "outputId": "35181608-b363-46e7-f64e-b53674c4b90e"
      },
      "outputs": [
        {
          "output_type": "execute_result",
          "data": {
            "text/plain": [
              "0.0468790128967521"
            ]
          },
          "metadata": {},
          "execution_count": 41
        }
      ],
      "source": [
        "Specific_information(Y,3,list_of_lists_to_tuples([X3]))"
      ]
    },
    {
      "cell_type": "code",
      "execution_count": null,
      "metadata": {
        "colab": {
          "base_uri": "https://localhost:8080/"
        },
        "id": "H5QAZhG6LBgp",
        "outputId": "b3866533-6ce3-490e-c221-60e686384a6f"
      },
      "outputs": [
        {
          "output_type": "execute_result",
          "data": {
            "text/plain": [
              "0.06454250979214894"
            ]
          },
          "metadata": {},
          "execution_count": 42
        }
      ],
      "source": [
        "Imin(Y,X1,X2)"
      ]
    },
    {
      "cell_type": "code",
      "execution_count": null,
      "metadata": {
        "colab": {
          "base_uri": "https://localhost:8080/"
        },
        "id": "ac6OO6L4ouVo",
        "outputId": "3785a0a8-b201-46f8-c827-328831b47cb2"
      },
      "outputs": [
        {
          "output_type": "execute_result",
          "data": {
            "text/plain": [
              "-0.1381591452294706"
            ]
          },
          "metadata": {},
          "execution_count": 43
        }
      ],
      "source": [
        "local_Imin(Y,1,[X1,X2],(1,0))"
      ]
    },
    {
      "cell_type": "code",
      "execution_count": null,
      "metadata": {
        "id": "fDdNbJlnaBwl"
      },
      "outputs": [],
      "source": []
    },
    {
      "cell_type": "markdown",
      "metadata": {
        "id": "PTKB2Xkr6yFz"
      },
      "source": [
        "\n",
        "\n",
        "# GENERATE TEST DATA-SET"
      ]
    },
    {
      "cell_type": "code",
      "execution_count": null,
      "metadata": {
        "id": "8YBuIpegTfRy"
      },
      "outputs": [],
      "source": [
        "def create_correlated_datasets(n, r, s, c):\n",
        "    \"\"\"\n",
        "    Creates two datasets with a given correlation.\n",
        "\n",
        "    Args:\n",
        "        n (int): Number of elements in each dataset.\n",
        "        r (int): Range of the numbers in the dataset (0 to r).\n",
        "        s (int): Seed for the random number generator.\n",
        "        c (float): The desired correlation coefficient (-1 to 1).\n",
        "\n",
        "    Returns:\n",
        "        tuple: A tuple containing the two correlated datasets as NumPy arrays.\n",
        "    \"\"\"\n",
        "\n",
        "    np.random.seed(s)\n",
        "\n",
        "    # Ensure correlation coefficient is within valid range\n",
        "    if not -1 <= c <= 1:\n",
        "        raise ValueError(\"Correlation coefficient 'c' must be between -1 and 1.\")\n",
        "\n",
        "    # Generate a base dataset\n",
        "    x = np.random.randint(0, r + 1, size=n)\n",
        "\n",
        "    # Create a correlated dataset based on the desired correlation\n",
        "    if c == 0:\n",
        "        # No correlation, just generate another independent dataset\n",
        "        y = np.random.randint(0, r + 1, size=n)\n",
        "    elif c == 1:\n",
        "        y = x\n",
        "    else:\n",
        "        # Calculate the required standard deviation for the correlated data\n",
        "        sigma_y = np.std(x) * np.sqrt(1 - c**2)\n",
        "\n",
        "        # Generate correlated noise\n",
        "        noise = np.random.normal(scale=sigma_y, size=n)\n",
        "\n",
        "        # Create the correlated dataset\n",
        "        y = c * x + noise\n",
        "        y = np.round(y).astype(int)\n",
        "        y = np.clip(y, 0, r)\n",
        "\n",
        "    return x, y"
      ]
    },
    {
      "cell_type": "code",
      "execution_count": null,
      "metadata": {
        "id": "imjMq48VwAQi"
      },
      "outputs": [],
      "source": [
        "def create_correlated_binary_datasets(n, s, c):\n",
        "    np.random.seed(s)\n",
        "\n",
        "    # Generate random binary dataset x\n",
        "    x = np.random.binomial(1, 0.5, n)\n",
        "\n",
        "    # Generate random noise for y\n",
        "    noise = np.random.binomial(1, 0.5, n)\n",
        "\n",
        "    # Calculate y based on correlation c with x\n",
        "    y = np.where(noise, x, 1 - x)\n",
        "\n",
        "    # Introduce correlation between x and y\n",
        "    if c != 0:\n",
        "        cov_matrix = np.array([[1, c], [c, 1]])\n",
        "        x_y = np.random.multivariate_normal([0, 0], cov_matrix, size=n).T\n",
        "        x, y = np.where(x_y > 0, 1, 0)\n",
        "\n",
        "    return x, y"
      ]
    },
    {
      "cell_type": "code",
      "execution_count": null,
      "metadata": {
        "id": "uxAr703SNSbQ"
      },
      "outputs": [],
      "source": [
        "def generate_correlation_table_TEST(c, n, s,corr):\n",
        "\n",
        "    df = pd.DataFrame(index=range(n))\n",
        "\n",
        "    # Generate random variables X1, X2, ..., X_(c-1) and Y\n",
        "    X1, X2 = create_correlated_datasets(n, 1, s, corr[0])\n",
        "    Y=np.logical_and(X1,X2)\n",
        "    Y=np.logical_xor(X1,X2)\n",
        "    #Y=X1\n",
        "    Y = np.clip(Y, 0, 1)\n",
        "\n",
        "    # Assign data to DataFrame\n",
        "    df['X1'] = X1\n",
        "    df['X2'] = X2\n",
        "    df['Y'] = Y\n",
        "    return df"
      ]
    },
    {
      "cell_type": "markdown",
      "metadata": {
        "id": "v0GPRMJyDjz0"
      },
      "source": [
        "# PARTIAL INFORMATION DECOMPOSITION"
      ]
    },
    {
      "cell_type": "code",
      "execution_count": null,
      "metadata": {
        "id": "aJXE52VduDbv"
      },
      "outputs": [],
      "source": [
        "def generate_correlation_table_TEST(c, n, s,corr):\n",
        "\n",
        "    df = pd.DataFrame(index=range(n))\n",
        "\n",
        "    # Generate random variables X1, X2, ..., X_(c-1) and Y\n",
        "    X1, X2 = create_correlated_datasets(n, 1, s, corr[0])\n",
        "    Y=np.logical_and(X1,X2)\n",
        "    #Y=np.logical_xor(X1,X2)\n",
        "    #Y=X1\n",
        "    Y = np.clip(Y, 0, 1)\n",
        "\n",
        "    # Assign data to DataFrame\n",
        "    df['X1'] = X1\n",
        "    df['X2'] = X2\n",
        "    df['Y'] = Y\n",
        "    return df"
      ]
    },
    {
      "cell_type": "code",
      "execution_count": null,
      "metadata": {
        "colab": {
          "base_uri": "https://localhost:8080/",
          "height": 362
        },
        "id": "99j7Rh6DtXUQ",
        "outputId": "54c4a8f6-d580-4d2f-ff76-0741eeb7225c"
      },
      "outputs": [
        {
          "output_type": "execute_result",
          "data": {
            "text/plain": [
              "   X1  X2  Y\n",
              "0   1   0  0\n",
              "1   1   0  0\n",
              "2   0   0  0\n",
              "3   0   1  0\n",
              "4   1   1  1\n",
              "5   0   1  0\n",
              "6   0   0  0\n",
              "7   0   1  0\n",
              "8   0   0  0\n",
              "9   1   1  1"
            ],
            "text/html": [
              "\n",
              "  <div id=\"df-b9135f4b-5fd5-49a7-9c19-9304bb82fc1d\" class=\"colab-df-container\">\n",
              "    <div>\n",
              "<style scoped>\n",
              "    .dataframe tbody tr th:only-of-type {\n",
              "        vertical-align: middle;\n",
              "    }\n",
              "\n",
              "    .dataframe tbody tr th {\n",
              "        vertical-align: top;\n",
              "    }\n",
              "\n",
              "    .dataframe thead th {\n",
              "        text-align: right;\n",
              "    }\n",
              "</style>\n",
              "<table border=\"1\" class=\"dataframe\">\n",
              "  <thead>\n",
              "    <tr style=\"text-align: right;\">\n",
              "      <th></th>\n",
              "      <th>X1</th>\n",
              "      <th>X2</th>\n",
              "      <th>Y</th>\n",
              "    </tr>\n",
              "  </thead>\n",
              "  <tbody>\n",
              "    <tr>\n",
              "      <th>0</th>\n",
              "      <td>1</td>\n",
              "      <td>0</td>\n",
              "      <td>0</td>\n",
              "    </tr>\n",
              "    <tr>\n",
              "      <th>1</th>\n",
              "      <td>1</td>\n",
              "      <td>0</td>\n",
              "      <td>0</td>\n",
              "    </tr>\n",
              "    <tr>\n",
              "      <th>2</th>\n",
              "      <td>0</td>\n",
              "      <td>0</td>\n",
              "      <td>0</td>\n",
              "    </tr>\n",
              "    <tr>\n",
              "      <th>3</th>\n",
              "      <td>0</td>\n",
              "      <td>1</td>\n",
              "      <td>0</td>\n",
              "    </tr>\n",
              "    <tr>\n",
              "      <th>4</th>\n",
              "      <td>1</td>\n",
              "      <td>1</td>\n",
              "      <td>1</td>\n",
              "    </tr>\n",
              "    <tr>\n",
              "      <th>5</th>\n",
              "      <td>0</td>\n",
              "      <td>1</td>\n",
              "      <td>0</td>\n",
              "    </tr>\n",
              "    <tr>\n",
              "      <th>6</th>\n",
              "      <td>0</td>\n",
              "      <td>0</td>\n",
              "      <td>0</td>\n",
              "    </tr>\n",
              "    <tr>\n",
              "      <th>7</th>\n",
              "      <td>0</td>\n",
              "      <td>1</td>\n",
              "      <td>0</td>\n",
              "    </tr>\n",
              "    <tr>\n",
              "      <th>8</th>\n",
              "      <td>0</td>\n",
              "      <td>0</td>\n",
              "      <td>0</td>\n",
              "    </tr>\n",
              "    <tr>\n",
              "      <th>9</th>\n",
              "      <td>1</td>\n",
              "      <td>1</td>\n",
              "      <td>1</td>\n",
              "    </tr>\n",
              "  </tbody>\n",
              "</table>\n",
              "</div>\n",
              "    <div class=\"colab-df-buttons\">\n",
              "\n",
              "  <div class=\"colab-df-container\">\n",
              "    <button class=\"colab-df-convert\" onclick=\"convertToInteractive('df-b9135f4b-5fd5-49a7-9c19-9304bb82fc1d')\"\n",
              "            title=\"Convert this dataframe to an interactive table.\"\n",
              "            style=\"display:none;\">\n",
              "\n",
              "  <svg xmlns=\"http://www.w3.org/2000/svg\" height=\"24px\" viewBox=\"0 -960 960 960\">\n",
              "    <path d=\"M120-120v-720h720v720H120Zm60-500h600v-160H180v160Zm220 220h160v-160H400v160Zm0 220h160v-160H400v160ZM180-400h160v-160H180v160Zm440 0h160v-160H620v160ZM180-180h160v-160H180v160Zm440 0h160v-160H620v160Z\"/>\n",
              "  </svg>\n",
              "    </button>\n",
              "\n",
              "  <style>\n",
              "    .colab-df-container {\n",
              "      display:flex;\n",
              "      gap: 12px;\n",
              "    }\n",
              "\n",
              "    .colab-df-convert {\n",
              "      background-color: #E8F0FE;\n",
              "      border: none;\n",
              "      border-radius: 50%;\n",
              "      cursor: pointer;\n",
              "      display: none;\n",
              "      fill: #1967D2;\n",
              "      height: 32px;\n",
              "      padding: 0 0 0 0;\n",
              "      width: 32px;\n",
              "    }\n",
              "\n",
              "    .colab-df-convert:hover {\n",
              "      background-color: #E2EBFA;\n",
              "      box-shadow: 0px 1px 2px rgba(60, 64, 67, 0.3), 0px 1px 3px 1px rgba(60, 64, 67, 0.15);\n",
              "      fill: #174EA6;\n",
              "    }\n",
              "\n",
              "    .colab-df-buttons div {\n",
              "      margin-bottom: 4px;\n",
              "    }\n",
              "\n",
              "    [theme=dark] .colab-df-convert {\n",
              "      background-color: #3B4455;\n",
              "      fill: #D2E3FC;\n",
              "    }\n",
              "\n",
              "    [theme=dark] .colab-df-convert:hover {\n",
              "      background-color: #434B5C;\n",
              "      box-shadow: 0px 1px 3px 1px rgba(0, 0, 0, 0.15);\n",
              "      filter: drop-shadow(0px 1px 2px rgba(0, 0, 0, 0.3));\n",
              "      fill: #FFFFFF;\n",
              "    }\n",
              "  </style>\n",
              "\n",
              "    <script>\n",
              "      const buttonEl =\n",
              "        document.querySelector('#df-b9135f4b-5fd5-49a7-9c19-9304bb82fc1d button.colab-df-convert');\n",
              "      buttonEl.style.display =\n",
              "        google.colab.kernel.accessAllowed ? 'block' : 'none';\n",
              "\n",
              "      async function convertToInteractive(key) {\n",
              "        const element = document.querySelector('#df-b9135f4b-5fd5-49a7-9c19-9304bb82fc1d');\n",
              "        const dataTable =\n",
              "          await google.colab.kernel.invokeFunction('convertToInteractive',\n",
              "                                                    [key], {});\n",
              "        if (!dataTable) return;\n",
              "\n",
              "        const docLinkHtml = 'Like what you see? Visit the ' +\n",
              "          '<a target=\"_blank\" href=https://colab.research.google.com/notebooks/data_table.ipynb>data table notebook</a>'\n",
              "          + ' to learn more about interactive tables.';\n",
              "        element.innerHTML = '';\n",
              "        dataTable['output_type'] = 'display_data';\n",
              "        await google.colab.output.renderOutput(dataTable, element);\n",
              "        const docLink = document.createElement('div');\n",
              "        docLink.innerHTML = docLinkHtml;\n",
              "        element.appendChild(docLink);\n",
              "      }\n",
              "    </script>\n",
              "  </div>\n",
              "\n",
              "\n",
              "<div id=\"df-fade02ca-2f93-4e16-8fb5-c118ce789ba9\">\n",
              "  <button class=\"colab-df-quickchart\" onclick=\"quickchart('df-fade02ca-2f93-4e16-8fb5-c118ce789ba9')\"\n",
              "            title=\"Suggest charts\"\n",
              "            style=\"display:none;\">\n",
              "\n",
              "<svg xmlns=\"http://www.w3.org/2000/svg\" height=\"24px\"viewBox=\"0 0 24 24\"\n",
              "     width=\"24px\">\n",
              "    <g>\n",
              "        <path d=\"M19 3H5c-1.1 0-2 .9-2 2v14c0 1.1.9 2 2 2h14c1.1 0 2-.9 2-2V5c0-1.1-.9-2-2-2zM9 17H7v-7h2v7zm4 0h-2V7h2v10zm4 0h-2v-4h2v4z\"/>\n",
              "    </g>\n",
              "</svg>\n",
              "  </button>\n",
              "\n",
              "<style>\n",
              "  .colab-df-quickchart {\n",
              "      --bg-color: #E8F0FE;\n",
              "      --fill-color: #1967D2;\n",
              "      --hover-bg-color: #E2EBFA;\n",
              "      --hover-fill-color: #174EA6;\n",
              "      --disabled-fill-color: #AAA;\n",
              "      --disabled-bg-color: #DDD;\n",
              "  }\n",
              "\n",
              "  [theme=dark] .colab-df-quickchart {\n",
              "      --bg-color: #3B4455;\n",
              "      --fill-color: #D2E3FC;\n",
              "      --hover-bg-color: #434B5C;\n",
              "      --hover-fill-color: #FFFFFF;\n",
              "      --disabled-bg-color: #3B4455;\n",
              "      --disabled-fill-color: #666;\n",
              "  }\n",
              "\n",
              "  .colab-df-quickchart {\n",
              "    background-color: var(--bg-color);\n",
              "    border: none;\n",
              "    border-radius: 50%;\n",
              "    cursor: pointer;\n",
              "    display: none;\n",
              "    fill: var(--fill-color);\n",
              "    height: 32px;\n",
              "    padding: 0;\n",
              "    width: 32px;\n",
              "  }\n",
              "\n",
              "  .colab-df-quickchart:hover {\n",
              "    background-color: var(--hover-bg-color);\n",
              "    box-shadow: 0 1px 2px rgba(60, 64, 67, 0.3), 0 1px 3px 1px rgba(60, 64, 67, 0.15);\n",
              "    fill: var(--button-hover-fill-color);\n",
              "  }\n",
              "\n",
              "  .colab-df-quickchart-complete:disabled,\n",
              "  .colab-df-quickchart-complete:disabled:hover {\n",
              "    background-color: var(--disabled-bg-color);\n",
              "    fill: var(--disabled-fill-color);\n",
              "    box-shadow: none;\n",
              "  }\n",
              "\n",
              "  .colab-df-spinner {\n",
              "    border: 2px solid var(--fill-color);\n",
              "    border-color: transparent;\n",
              "    border-bottom-color: var(--fill-color);\n",
              "    animation:\n",
              "      spin 1s steps(1) infinite;\n",
              "  }\n",
              "\n",
              "  @keyframes spin {\n",
              "    0% {\n",
              "      border-color: transparent;\n",
              "      border-bottom-color: var(--fill-color);\n",
              "      border-left-color: var(--fill-color);\n",
              "    }\n",
              "    20% {\n",
              "      border-color: transparent;\n",
              "      border-left-color: var(--fill-color);\n",
              "      border-top-color: var(--fill-color);\n",
              "    }\n",
              "    30% {\n",
              "      border-color: transparent;\n",
              "      border-left-color: var(--fill-color);\n",
              "      border-top-color: var(--fill-color);\n",
              "      border-right-color: var(--fill-color);\n",
              "    }\n",
              "    40% {\n",
              "      border-color: transparent;\n",
              "      border-right-color: var(--fill-color);\n",
              "      border-top-color: var(--fill-color);\n",
              "    }\n",
              "    60% {\n",
              "      border-color: transparent;\n",
              "      border-right-color: var(--fill-color);\n",
              "    }\n",
              "    80% {\n",
              "      border-color: transparent;\n",
              "      border-right-color: var(--fill-color);\n",
              "      border-bottom-color: var(--fill-color);\n",
              "    }\n",
              "    90% {\n",
              "      border-color: transparent;\n",
              "      border-bottom-color: var(--fill-color);\n",
              "    }\n",
              "  }\n",
              "</style>\n",
              "\n",
              "  <script>\n",
              "    async function quickchart(key) {\n",
              "      const quickchartButtonEl =\n",
              "        document.querySelector('#' + key + ' button');\n",
              "      quickchartButtonEl.disabled = true;  // To prevent multiple clicks.\n",
              "      quickchartButtonEl.classList.add('colab-df-spinner');\n",
              "      try {\n",
              "        const charts = await google.colab.kernel.invokeFunction(\n",
              "            'suggestCharts', [key], {});\n",
              "      } catch (error) {\n",
              "        console.error('Error during call to suggestCharts:', error);\n",
              "      }\n",
              "      quickchartButtonEl.classList.remove('colab-df-spinner');\n",
              "      quickchartButtonEl.classList.add('colab-df-quickchart-complete');\n",
              "    }\n",
              "    (() => {\n",
              "      let quickchartButtonEl =\n",
              "        document.querySelector('#df-fade02ca-2f93-4e16-8fb5-c118ce789ba9 button');\n",
              "      quickchartButtonEl.style.display =\n",
              "        google.colab.kernel.accessAllowed ? 'block' : 'none';\n",
              "    })();\n",
              "  </script>\n",
              "</div>\n",
              "\n",
              "  <div id=\"id_9a176099-762a-4086-8cb4-3350c168f05a\">\n",
              "    <style>\n",
              "      .colab-df-generate {\n",
              "        background-color: #E8F0FE;\n",
              "        border: none;\n",
              "        border-radius: 50%;\n",
              "        cursor: pointer;\n",
              "        display: none;\n",
              "        fill: #1967D2;\n",
              "        height: 32px;\n",
              "        padding: 0 0 0 0;\n",
              "        width: 32px;\n",
              "      }\n",
              "\n",
              "      .colab-df-generate:hover {\n",
              "        background-color: #E2EBFA;\n",
              "        box-shadow: 0px 1px 2px rgba(60, 64, 67, 0.3), 0px 1px 3px 1px rgba(60, 64, 67, 0.15);\n",
              "        fill: #174EA6;\n",
              "      }\n",
              "\n",
              "      [theme=dark] .colab-df-generate {\n",
              "        background-color: #3B4455;\n",
              "        fill: #D2E3FC;\n",
              "      }\n",
              "\n",
              "      [theme=dark] .colab-df-generate:hover {\n",
              "        background-color: #434B5C;\n",
              "        box-shadow: 0px 1px 3px 1px rgba(0, 0, 0, 0.15);\n",
              "        filter: drop-shadow(0px 1px 2px rgba(0, 0, 0, 0.3));\n",
              "        fill: #FFFFFF;\n",
              "      }\n",
              "    </style>\n",
              "    <button class=\"colab-df-generate\" onclick=\"generateWithVariable('test_data')\"\n",
              "            title=\"Generate code using this dataframe.\"\n",
              "            style=\"display:none;\">\n",
              "\n",
              "  <svg xmlns=\"http://www.w3.org/2000/svg\" height=\"24px\"viewBox=\"0 0 24 24\"\n",
              "       width=\"24px\">\n",
              "    <path d=\"M7,19H8.4L18.45,9,17,7.55,7,17.6ZM5,21V16.75L18.45,3.32a2,2,0,0,1,2.83,0l1.4,1.43a1.91,1.91,0,0,1,.58,1.4,1.91,1.91,0,0,1-.58,1.4L9.25,21ZM18.45,9,17,7.55Zm-12,3A5.31,5.31,0,0,0,4.9,8.1,5.31,5.31,0,0,0,1,6.5,5.31,5.31,0,0,0,4.9,4.9,5.31,5.31,0,0,0,6.5,1,5.31,5.31,0,0,0,8.1,4.9,5.31,5.31,0,0,0,12,6.5,5.46,5.46,0,0,0,6.5,12Z\"/>\n",
              "  </svg>\n",
              "    </button>\n",
              "    <script>\n",
              "      (() => {\n",
              "      const buttonEl =\n",
              "        document.querySelector('#id_9a176099-762a-4086-8cb4-3350c168f05a button.colab-df-generate');\n",
              "      buttonEl.style.display =\n",
              "        google.colab.kernel.accessAllowed ? 'block' : 'none';\n",
              "\n",
              "      buttonEl.onclick = () => {\n",
              "        google.colab.notebook.generateWithVariable('test_data');\n",
              "      }\n",
              "      })();\n",
              "    </script>\n",
              "  </div>\n",
              "\n",
              "    </div>\n",
              "  </div>\n"
            ],
            "application/vnd.google.colaboratory.intrinsic+json": {
              "type": "dataframe",
              "variable_name": "test_data",
              "summary": "{\n  \"name\": \"test_data\",\n  \"rows\": 10,\n  \"fields\": [\n    {\n      \"column\": \"X1\",\n      \"properties\": {\n        \"dtype\": \"number\",\n        \"std\": 0,\n        \"min\": 0,\n        \"max\": 1,\n        \"num_unique_values\": 2,\n        \"samples\": [\n          0,\n          1\n        ],\n        \"semantic_type\": \"\",\n        \"description\": \"\"\n      }\n    },\n    {\n      \"column\": \"X2\",\n      \"properties\": {\n        \"dtype\": \"number\",\n        \"std\": 0,\n        \"min\": 0,\n        \"max\": 1,\n        \"num_unique_values\": 2,\n        \"samples\": [\n          1,\n          0\n        ],\n        \"semantic_type\": \"\",\n        \"description\": \"\"\n      }\n    },\n    {\n      \"column\": \"Y\",\n      \"properties\": {\n        \"dtype\": \"number\",\n        \"std\": 0,\n        \"min\": 0,\n        \"max\": 1,\n        \"num_unique_values\": 2,\n        \"samples\": [\n          1,\n          0\n        ],\n        \"semantic_type\": \"\",\n        \"description\": \"\"\n      }\n    }\n  ]\n}"
            }
          },
          "metadata": {},
          "execution_count": 48
        }
      ],
      "source": [
        "c = 3\n",
        "n = 10\n",
        "corr = [0,0]\n",
        "test_data=generate_correlation_table_TEST(c, n, s,corr)\n",
        "X1 = test_data.iloc[:, 0]\n",
        "X2 = test_data.iloc[:, 1]\n",
        "Y=  test_data.iloc[:, 2]\n",
        "test_data"
      ]
    },
    {
      "cell_type": "code",
      "execution_count": null,
      "metadata": {
        "colab": {
          "base_uri": "https://localhost:8080/"
        },
        "id": "EX9dRuk3s1bY",
        "outputId": "38957ca4-2648-4711-ee1a-68dfd20d1fa7"
      },
      "outputs": [
        {
          "output_type": "execute_result",
          "data": {
            "text/plain": [
              "0.2"
            ]
          },
          "metadata": {},
          "execution_count": 49
        }
      ],
      "source": [
        "joint_probability_local(X1,X2,Y, local_values=(1,0,0))"
      ]
    },
    {
      "cell_type": "code",
      "execution_count": null,
      "metadata": {
        "id": "rR9zHClLDpIt"
      },
      "outputs": [],
      "source": [
        "def PID(X1,X2,Y):\n",
        "  R=BROJA(X1,X2,Y)\n",
        "  #print(R)\n",
        "  R=MinMI(X1,X2,Y)\n",
        "  #print(R)\n",
        "  R=Imin(Y,X1,X2)\n",
        "  #print(R)\n",
        "  U1=mutual_information(X1,Y)-R\n",
        "  U2=mutual_information(X2,Y)-R\n",
        "  S=mutual_informationX1X2Y(X1,X2,Y)-R-U1-U2\n",
        "  print(\"Redundant information R:\", f\"{R:.2f}\")\n",
        "  print(\"Unique information U1:\", f\"{U1:.2f}\")\n",
        "  print(\"Unique information U2:\", f\"{U2:.2f}\")\n",
        "  print(\"Synergetic information S:\", f\"{S:.2f}\")\n",
        "  #print(\"X1:\", X1)\n",
        "  #print(\"X2:\", X2)\n",
        "  #print(\"Y:\", Y)\n",
        "  return [R,U1,U2,S]"
      ]
    },
    {
      "cell_type": "code",
      "execution_count": null,
      "metadata": {
        "id": "wEWGPsnkakfA"
      },
      "outputs": [],
      "source": [
        "def PID_local(X1,X2,Y, x1,x2,y):\n",
        "  R=local_Imin(Y,y,[X1,X2],(x1,x2))\n",
        "  print(R)\n",
        "  U1=local_mutual_information(X1,Y,x1,y)-R\n",
        "  U2=local_mutual_information(X2,Y,x2,y)-R\n",
        "  S=local_mutual_informationX1X2Y(X1,X2,Y, x1,x2,y)-R-U1-U2\n",
        "  print(\"Redundant information R:\", R)\n",
        "  print(\"Unique information U1:\", U1)\n",
        "  print(\"Unique information U2:\", U2)\n",
        "  print(\"Synergetic information S:\", S)\n",
        "  #print(\"X1:\", X1)\n",
        "  #print(\"X2:\", X2)\n",
        "  #print(\"Y:\", Y)\n",
        "  return [R,U1,U2,S]"
      ]
    },
    {
      "cell_type": "code",
      "execution_count": null,
      "metadata": {
        "id": "dtEnYHMg9YxN"
      },
      "outputs": [],
      "source": [
        "def PID_local_all(X1,X2,Y):\n",
        "  result=[]\n",
        "  for x1,x2,y in zip(X1,X2,Y):\n",
        "     R=local_Imin(Y,y,[X1,X2],(x1,x2))\n",
        "     U1=local_mutual_information(X1,Y,x1,y)-R\n",
        "     U2=local_mutual_information(X2,Y,x2,y)-R\n",
        "     S=local_mutual_informationX1X2Y(X1,X2,Y, x1,x2,y)-R-U1-U2\n",
        "     result.append({'X1_X2_Y': (x1,x2,y),'Red':R,'UX1':U1,'UX2':U2,'SYN':S})\n",
        "  return pd.DataFrame(result)\n"
      ]
    },
    {
      "cell_type": "code",
      "execution_count": null,
      "metadata": {
        "id": "jnLXAcAypA0u"
      },
      "outputs": [],
      "source": [
        "def Redundancy_local_spread(X1,X2,Y):\n",
        "  triplets = zip(X1, X2, Y)\n",
        "  # Create a set to automatically remove duplicates\n",
        "  unique_pairs = set(triplets)\n",
        "  # Iterate through unique pairs\n",
        "  mean=0\n",
        "  for x1, x2, y in unique_pairs:\n",
        "    R=local_Imin(Y,y,[X1,X2],(x1,x2))\n",
        "    p=joint_probability_local(X1,X2,Y, local_values=(x1,x2,y))\n",
        "    mean=mean+p*R\n",
        "    print(p)\n",
        "    print(x1, x2, y)\n",
        "    print(\"R=\",R)\n",
        "  print(mean)\n",
        "  return"
      ]
    },
    {
      "cell_type": "markdown",
      "metadata": {
        "id": "wFc5dR76nD-y"
      },
      "source": [
        "# EXPERIMENT"
      ]
    },
    {
      "cell_type": "code",
      "execution_count": null,
      "metadata": {
        "id": "D-j2ccZ45vCY"
      },
      "outputs": [],
      "source": [
        "def generate_correlation_table_function(n, t_c, r,s, f):\n",
        "    \"\"\"\n",
        "    Generates a table of Dual Total Correlations for different correlation coefficients.\n",
        "\n",
        "    Args:\n",
        "        n (int): Number of samples in X1 and X2.\n",
        "        t_c (int): Number of correlation values\n",
        "        r (int): Range for the values in X1 and X2 (0 to r).\n",
        "        s=seed\n",
        "\n",
        "    Returns:\n",
        "        pandas.DataFrame: A table containing correlation coefficients, X1-X2\n",
        "                          correlations, and Dual Total Correlations.\n",
        "    \"\"\"\n",
        "\n",
        "    print(f)\n",
        "    corrs = np.linspace(0, 1, t_c)  # Uniformly spaced correlation coefficients\n",
        "    results = []\n",
        "    for corr in corrs:\n",
        "        print(\"NEXT EXPERIMENT\")\n",
        "        print(f\"corr X1_X2={corr:.2f}\")\n",
        "        X1, X2 = create_correlated_binary_datasets(n, s, corr)\n",
        "        true_corr = np.corrcoef(X1, X2)[0, 1]  # True correlation between X1 and X2\n",
        "        print(f\"true_corr X1_X2={true_corr:.2f}\")\n",
        "        X1, X2 = create_correlated_binary_datasets(n,s,corr)\n",
        "        if f==1:\n",
        "          Y=np.logical_and(X1,X2)\n",
        "        if f==2:\n",
        "          Y=np.logical_xor(X1,X2)\n",
        "        if f==3:\n",
        "          Y=np.random.randint(0, r + 1, size=n)\n",
        "        if f==4:\n",
        "          Y=X1\n",
        "        Y=np.clip(Y, 0, 1).round()\n",
        "\n",
        "        true_corr = np.corrcoef(X1, X2)[0, 1]  # True correlation between X1 and X2\n",
        "        X1_Y_corr=np.corrcoef(X1, Y)[0, 1]\n",
        "        X2_Y_corr=np.corrcoef(X2, Y)[0, 1]\n",
        "        dtc = DTC_List(X1, X2, Y)\n",
        "        tc= TC_List(X1,X2,Y)\n",
        "        R=Imin(Y,X1,X2)\n",
        "        U1=mutual_information(X1,Y)-R\n",
        "        U2=mutual_information(X2,Y)-R\n",
        "        S=mutual_informationX1X2Y(X1,X2,Y)-R-U1-U2\n",
        "        tc_local=local_TC(X1,X2,Y)\n",
        "        dtc_local=local_DTC(X1,X2,Y)\n",
        "        o_local=[a - b for a, b in zip(tc_local, dtc_local)]\n",
        "        PID_loc= PID_local_all(X1,X2,Y)\n",
        "\n",
        "        results.append({'X1': X1, 'X2': X2, 'Y':Y, 'X1-X2 Correlation': true_corr, 'X1-Y Correlation': X1_Y_corr,'X2-Y Correlation': X2_Y_corr,'DTC': dtc, 'DTC_AVG': np.mean(dtc_local),'DTC_MED': np.median(dtc_local),\n",
        "                        'DTC_Q1': np.percentile(dtc_local,25), 'DTC_Q3': np.percentile(dtc_local,75), 'TC': tc, 'TC_AVG': np.mean(tc_local),'TC_MED': np.median(tc_local),'TC_Q1': np.percentile(tc_local,25), 'TC_Q3': np.percentile(tc_local,75),\n",
        "                        'OINF': tc-dtc, 'OINF_LOCAL': o_local, 'TC_STDV': np.std(tc_local), 'DTC_STDV': np.std(dtc_local), 'DTC_LOCAL': dtc_local, 'TC_LOCAL': tc_local, 'TC_SET': set(tc_local), 'DTC_SET':set(dtc_local), 'OINF_SET':set(o_local),'R':R, 'U1':U1, 'U2':U2,'S':S,\n",
        "                        'R_LOCAL': PID_loc['Red'], 'UX1_LOCAL': PID_loc['UX1'],'UX2_LOCAL': PID_loc['UX2'], 'S_LOCAL': PID_loc['SYN'], 'R_SET': set(PID_loc['Red']), 'UX1_SET': set(PID_loc['UX1']),'UX2_SET': set(PID_loc['UX2']), 'S_SET': set(PID_loc['SYN']) })\n",
        "        data = {\n",
        "          'X1': X1,\n",
        "          'X2': X2,\n",
        "          'Y': Y,\n",
        "          'R_LOCAL': PID_loc['Red'],\n",
        "          'UX1_LOCAL': PID_loc['UX1'],\n",
        "          'UX2_LOCAL': PID_loc['UX2'],\n",
        "          'S_LOCAL': PID_loc['SYN']\n",
        "        }\n",
        "        df_overview=analyze_dataframe(pd.DataFrame(data))\n",
        "\n",
        "        t=PID(X1,X2,Y)\n",
        "\n",
        "        print(\"mutual information\", f\"{mutual_informationX1X2Y(X1,X2,Y):.2f}\")\n",
        "        print(\"\\n\\n\")\n",
        "\n",
        "    return pd.DataFrame(results)"
      ]
    },
    {
      "cell_type": "code",
      "execution_count": null,
      "metadata": {
        "id": "FDIuVgxq60PX"
      },
      "outputs": [],
      "source": [
        "def plot_PID_spread_function(df, figsize=(25, 4)):\n",
        "  \"\"\"\n",
        "  Creates plots with two subplots: 'X1-X2 Correlation' vs 'DTC' and\n",
        "  'X1-X2 Correlation' vs 'TC' for each w_AND value. Ensures shared y-axis range.\n",
        "\n",
        "  Args:\n",
        "      df (pandas.DataFrame): The DataFrame containing results.\n",
        "      figsize (tuple, optional): The size of each figure. Defaults to (10, 4).\n",
        "      marker_color (str, optional): The color for all markers. Defaults to 'red'.\n",
        "  \"\"\"\n",
        "  ylim_min = -5\n",
        "  ylim_max = 5\n",
        "\n",
        "  # Create figure and subplots\n",
        "  fig, (ax1, ax2, ax3, ax4) = plt.subplots(1, 4, figsize=figsize)\n",
        "\n",
        "  # Add title to each subplot\n",
        "  ax1.set_title(\"Redundant\")\n",
        "  ax2.set_title(\"Unique_X1\")\n",
        "  ax3.set_title(\"Unique_X2\")\n",
        "  ax4.set_title(\"Synergetic\")\n",
        "\n",
        "  # Plot 'X1-X2 Correlation' vs 'R'\n",
        "  for index, row in df.iterrows():\n",
        "    x_value = row['X1-X2 Correlation']\n",
        "    y_values = row['R_SET']\n",
        "    for y in y_values:\n",
        "      ax1.scatter(x_value, y, color='blue')  # Set marker color\n",
        "    ax1.scatter(x_value, row['R'], color='red')\n",
        "\n",
        "  # Plot 'X1-X2 Correlation' vs 'UX1'\n",
        "  for index, row in df.iterrows():\n",
        "    x_value = row['X1-X2 Correlation']\n",
        "    y_values = row['UX1_SET']\n",
        "    for y in y_values:\n",
        "      ax2.scatter(x_value, y, color='blue')  # Set marker color\n",
        "    ax2.scatter(x_value, row['U1'], color='red')\n",
        "\n",
        "  # Plot 'X1-X2 Correlation' vs 'UX2'\n",
        "  for index, row in df.iterrows():\n",
        "    x_value = row['X1-X2 Correlation']\n",
        "    y_values = row['UX2_SET']\n",
        "    for y in y_values:\n",
        "      ax3.scatter(x_value, y, color='blue')  # Set marker color\n",
        "    ax3.scatter(x_value, row['U2'], color='red')\n",
        "\n",
        "  # Plot 'X1-X2 Correlation' vs 'S'\n",
        "  for index, row in df.iterrows():\n",
        "    x_value = row['X1-X2 Correlation']\n",
        "    y_values = row['S_SET']\n",
        "    for y in y_values:\n",
        "      ax4.scatter(x_value, y, color='blue')  # Set marker color\n",
        "    ax4.scatter(x_value, row['S'], color='red')\n",
        "\n",
        "    # Set the same y-axis range for both subplots\n",
        "    #ax1.set_ylim(ylim_min, ylim_max)\n",
        "    #ax2.set_ylim(ylim_min, ylim_max)\n",
        "\n",
        "    # Add axis labels\n",
        "    ax1.set_xlabel('X1-X2 Correlation')\n",
        "    ax1.set_ylabel('R')\n",
        "    ax2.set_xlabel('X1-X2 Correlation')\n",
        "    ax2.set_ylabel('UX1')\n",
        "    ax3.set_xlabel('X1-X2 Correlation')\n",
        "    ax3.set_ylabel('UX2')\n",
        "    ax4.set_xlabel('X1-X2 Correlation')\n",
        "    ax4.set_ylabel('S')\n",
        "\n",
        "  plt.show()"
      ]
    },
    {
      "cell_type": "code",
      "execution_count": null,
      "metadata": {
        "id": "_xUmSgbGYxYJ"
      },
      "outputs": [],
      "source": [
        "def analyze_dataframe(df_data):\n",
        "  \"\"\"\n",
        "  Analyzes a DataFrame containing features X1, X2, Y, tc_local, and dtc_local,\n",
        "  calculates descriptive statistics for each unique combination,\n",
        "  and returns a new DataFrame with the results, formatting tc_local and dtc_local to 2 decimals.\n",
        "\n",
        "  Args:\n",
        "      df_data (pandas.DataFrame): The DataFrame containing the data.\n",
        "\n",
        "  Returns:\n",
        "      pandas.DataFrame: A new DataFrame with the following columns, formatted as specified:\n",
        "          - X1/X2/Y: Unique combination of features.\n",
        "          - Count (%): Percentage occurrence of the combination (normalized).\n",
        "          - tc_local: Average value of tc_local for the combination, formatted to 2 decimals.\n",
        "          - dtc_local: Average value of dtc_local for the combination, formatted to 2 decimals.\n",
        "  \"\"\"\n",
        "\n",
        "  # Group by X1, X2, and Y for efficient calculations\n",
        "  grouped_data = df_data.groupby(['X1', 'X2', 'Y'])\n",
        "\n",
        "  # Calculate descriptive statistics with appropriate functions\n",
        "  results = grouped_data.agg(\n",
        "      Count=('X1', 'size'),  # Count occurrences (faster than nrows)\n",
        "      R_local=('R_LOCAL', 'mean'),\n",
        "      UX1_local=('UX1_LOCAL', 'mean'),\n",
        "      UX2_local=('UX2_LOCAL', 'mean'),\n",
        "      S_local=('S_LOCAL', 'mean'),\n",
        "\n",
        "  ).reset_index()\n",
        "\n",
        "  # Normalize Count to percentage\n",
        "  results['Count (%)'] = (results['Count'] / len(df_data)) * 100\n",
        "\n",
        "  # Custom formatting function for string representation (2 decimals)\n",
        "  def format_two_decimals(value):\n",
        "      return f\"{value:.2f}\"\n",
        "\n",
        "  # Format tc_local and dtc_local columns using list comprehension\n",
        "  results[['R_local', 'UX1_local', 'UX2_local', 'S_local']] =   results[['R_local', 'UX1_local', 'UX2_local', 'S_local']] .applymap(format_two_decimals)\n",
        "\n",
        "  # Reorder columns as requested\n",
        "  results = results[['X1', 'X2', 'Y', 'Count (%)', 'R_local', 'UX1_local', 'UX2_local', 'S_local']]\n",
        "\n",
        "  # Print the DataFrame with clear column titles for readability\n",
        "  print(\"Analysis Results:\")\n",
        "  print(results)\n",
        "\n",
        "  return results"
      ]
    },
    {
      "cell_type": "code",
      "execution_count": null,
      "metadata": {
        "id": "7R_VkkGjXxvw"
      },
      "outputs": [],
      "source": [
        "n= 400\n",
        "t_c=20\n",
        "r=1"
      ]
    },
    {
      "cell_type": "code",
      "execution_count": null,
      "metadata": {
        "colab": {
          "background_save": true,
          "base_uri": "https://localhost:8080/"
        },
        "id": "wuPJQVxJnRde",
        "outputId": "276b844c-4e68-415e-e0c6-9efac74e9d6f"
      },
      "outputs": [
        {
          "output_type": "stream",
          "name": "stdout",
          "text": [
            "1\n",
            "NEXT EXPERIMENT\n",
            "corr X1_X2=0.00\n",
            "true_corr X1_X2=0.02\n",
            "Analysis Results:\n",
            "   X1  X2  Y  Count (%) R_local UX1_local UX2_local S_local\n",
            "0   0   0  0      28.00    0.38     -0.00     -0.00    0.00\n",
            "1   0   1  0      22.50   -0.64      1.02     -0.00    0.00\n",
            "2   1   0  0      26.25   -0.53      0.00      0.92    0.00\n",
            "3   1   1  1      23.25    1.01      0.00      0.11    0.98\n",
            "Redundant information R: 0.29\n",
            "Unique information U1: -0.00\n",
            "Unique information U2: 0.04\n",
            "Synergetic information S: 0.46\n",
            "mutual information 0.78\n",
            "\n",
            "\n",
            "\n",
            "NEXT EXPERIMENT\n",
            "corr X1_X2=0.05\n",
            "true_corr X1_X2=0.11\n",
            "Analysis Results:\n",
            "   X1  X2  Y  Count (%) R_local UX1_local UX2_local S_local\n",
            "0   0   0  0       27.0    0.48     -0.00     -0.00    0.00\n",
            "1   0   1  0       24.5   -0.63      1.11     -0.00    0.00\n",
            "2   1   0  0       20.0   -0.79      0.00      1.28    0.00\n",
            "3   1   1  1       28.5    0.92      0.13     -0.00    0.77\n",
            "Redundant information R: 0.33\n",
            "Unique information U1: 0.05\n",
            "Unique information U2: -0.00\n",
            "Synergetic information S: 0.47\n",
            "mutual information 0.86\n",
            "\n",
            "\n",
            "\n",
            "NEXT EXPERIMENT\n",
            "corr X1_X2=0.11\n",
            "true_corr X1_X2=0.15\n",
            "Analysis Results:\n",
            "   X1  X2  Y  Count (%) R_local UX1_local UX2_local S_local\n",
            "0   0   0  0      27.75    0.51     -0.00      0.00    0.00\n",
            "1   0   1  0      23.25   -0.68      1.19     -0.00    0.00\n",
            "2   1   0  0      19.25   -0.84      0.00      1.35    0.00\n",
            "3   1   1  1      29.75    0.92      0.11     -0.00    0.72\n"
          ]
        }
      ],
      "source": [
        "df=generate_correlation_table_function(n, t_c, r,s,f=1)\n",
        "plot_PID_spread_function(df)"
      ]
    },
    {
      "cell_type": "code",
      "execution_count": null,
      "metadata": {
        "colab": {
          "background_save": true
        },
        "id": "cdGPmDWipqdl"
      },
      "outputs": [],
      "source": [
        "df=generate_correlation_table_function(n, t_c, r,s,f=2)\n",
        "plot_PID_spread_function(df)"
      ]
    },
    {
      "cell_type": "code",
      "execution_count": null,
      "metadata": {
        "colab": {
          "background_save": true
        },
        "id": "lHYxkOqfBPap"
      },
      "outputs": [],
      "source": [
        "df=generate_correlation_table_function(n, t_c, r,s,f=3)\n",
        "plot_PID_spread_function(df)"
      ]
    },
    {
      "cell_type": "code",
      "execution_count": null,
      "metadata": {
        "id": "KPxRPeO_XdS0"
      },
      "outputs": [],
      "source": [
        "df=generate_correlation_table_function(n, t_c, r,s,f=4)\n",
        "plot_PID_spread_function(df)"
      ]
    }
  ],
  "metadata": {
    "colab": {
      "provenance": []
    },
    "kernelspec": {
      "display_name": "Python 3",
      "name": "python3"
    },
    "language_info": {
      "name": "python"
    }
  },
  "nbformat": 4,
  "nbformat_minor": 0
}